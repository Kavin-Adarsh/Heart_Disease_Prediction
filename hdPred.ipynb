{
 "cells": [
  {
   "cell_type": "code",
   "execution_count": 72,
   "id": "2e5a2cf4",
   "metadata": {
    "scrolled": true
   },
   "outputs": [],
   "source": [
    "# Just importing some stuffs\n",
    "\n",
    "import tensorflow as tf \n",
    "import pandas as pd \n",
    "import numpy as np \n",
    "import matplotlib.pyplot as plt \n",
    "import keras \n",
    "from keras.models import Sequential \n",
    "from keras.layers import Dense \n",
    "from sklearn.metrics import confusion_matrix \n",
    "from sklearn.model_selection import train_test_split"
   ]
  },
  {
   "cell_type": "code",
   "execution_count": null,
   "id": "18d49687-bec1-4833-99ac-914d92442712",
   "metadata": {},
   "outputs": [],
   "source": []
  },
  {
   "cell_type": "code",
   "execution_count": 73,
   "id": "24e50470-1acb-4bc5-9c4d-aecbad98ad6c",
   "metadata": {},
   "outputs": [
    {
     "data": {
      "text/html": [
       "<div>\n",
       "<style scoped>\n",
       "    .dataframe tbody tr th:only-of-type {\n",
       "        vertical-align: middle;\n",
       "    }\n",
       "\n",
       "    .dataframe tbody tr th {\n",
       "        vertical-align: top;\n",
       "    }\n",
       "\n",
       "    .dataframe thead th {\n",
       "        text-align: right;\n",
       "    }\n",
       "</style>\n",
       "<table border=\"1\" class=\"dataframe\">\n",
       "  <thead>\n",
       "    <tr style=\"text-align: right;\">\n",
       "      <th></th>\n",
       "      <th>age</th>\n",
       "      <th>sex</th>\n",
       "      <th>cp</th>\n",
       "      <th>trestbps</th>\n",
       "      <th>chol</th>\n",
       "      <th>fbs</th>\n",
       "      <th>restecg</th>\n",
       "      <th>thalach</th>\n",
       "      <th>exang</th>\n",
       "      <th>oldpeak</th>\n",
       "      <th>slope</th>\n",
       "      <th>ca</th>\n",
       "      <th>thal</th>\n",
       "      <th>target</th>\n",
       "    </tr>\n",
       "  </thead>\n",
       "  <tbody>\n",
       "    <tr>\n",
       "      <th>0</th>\n",
       "      <td>52</td>\n",
       "      <td>1</td>\n",
       "      <td>0</td>\n",
       "      <td>125</td>\n",
       "      <td>212</td>\n",
       "      <td>0</td>\n",
       "      <td>1</td>\n",
       "      <td>168</td>\n",
       "      <td>0</td>\n",
       "      <td>1.0</td>\n",
       "      <td>2</td>\n",
       "      <td>2</td>\n",
       "      <td>3</td>\n",
       "      <td>0</td>\n",
       "    </tr>\n",
       "    <tr>\n",
       "      <th>1</th>\n",
       "      <td>53</td>\n",
       "      <td>1</td>\n",
       "      <td>0</td>\n",
       "      <td>140</td>\n",
       "      <td>203</td>\n",
       "      <td>1</td>\n",
       "      <td>0</td>\n",
       "      <td>155</td>\n",
       "      <td>1</td>\n",
       "      <td>3.1</td>\n",
       "      <td>0</td>\n",
       "      <td>0</td>\n",
       "      <td>3</td>\n",
       "      <td>0</td>\n",
       "    </tr>\n",
       "    <tr>\n",
       "      <th>2</th>\n",
       "      <td>70</td>\n",
       "      <td>1</td>\n",
       "      <td>0</td>\n",
       "      <td>145</td>\n",
       "      <td>174</td>\n",
       "      <td>0</td>\n",
       "      <td>1</td>\n",
       "      <td>125</td>\n",
       "      <td>1</td>\n",
       "      <td>2.6</td>\n",
       "      <td>0</td>\n",
       "      <td>0</td>\n",
       "      <td>3</td>\n",
       "      <td>0</td>\n",
       "    </tr>\n",
       "    <tr>\n",
       "      <th>3</th>\n",
       "      <td>61</td>\n",
       "      <td>1</td>\n",
       "      <td>0</td>\n",
       "      <td>148</td>\n",
       "      <td>203</td>\n",
       "      <td>0</td>\n",
       "      <td>1</td>\n",
       "      <td>161</td>\n",
       "      <td>0</td>\n",
       "      <td>0.0</td>\n",
       "      <td>2</td>\n",
       "      <td>1</td>\n",
       "      <td>3</td>\n",
       "      <td>0</td>\n",
       "    </tr>\n",
       "    <tr>\n",
       "      <th>4</th>\n",
       "      <td>62</td>\n",
       "      <td>0</td>\n",
       "      <td>0</td>\n",
       "      <td>138</td>\n",
       "      <td>294</td>\n",
       "      <td>1</td>\n",
       "      <td>1</td>\n",
       "      <td>106</td>\n",
       "      <td>0</td>\n",
       "      <td>1.9</td>\n",
       "      <td>1</td>\n",
       "      <td>3</td>\n",
       "      <td>2</td>\n",
       "      <td>0</td>\n",
       "    </tr>\n",
       "    <tr>\n",
       "      <th>...</th>\n",
       "      <td>...</td>\n",
       "      <td>...</td>\n",
       "      <td>...</td>\n",
       "      <td>...</td>\n",
       "      <td>...</td>\n",
       "      <td>...</td>\n",
       "      <td>...</td>\n",
       "      <td>...</td>\n",
       "      <td>...</td>\n",
       "      <td>...</td>\n",
       "      <td>...</td>\n",
       "      <td>...</td>\n",
       "      <td>...</td>\n",
       "      <td>...</td>\n",
       "    </tr>\n",
       "    <tr>\n",
       "      <th>1020</th>\n",
       "      <td>59</td>\n",
       "      <td>1</td>\n",
       "      <td>1</td>\n",
       "      <td>140</td>\n",
       "      <td>221</td>\n",
       "      <td>0</td>\n",
       "      <td>1</td>\n",
       "      <td>164</td>\n",
       "      <td>1</td>\n",
       "      <td>0.0</td>\n",
       "      <td>2</td>\n",
       "      <td>0</td>\n",
       "      <td>2</td>\n",
       "      <td>1</td>\n",
       "    </tr>\n",
       "    <tr>\n",
       "      <th>1021</th>\n",
       "      <td>60</td>\n",
       "      <td>1</td>\n",
       "      <td>0</td>\n",
       "      <td>125</td>\n",
       "      <td>258</td>\n",
       "      <td>0</td>\n",
       "      <td>0</td>\n",
       "      <td>141</td>\n",
       "      <td>1</td>\n",
       "      <td>2.8</td>\n",
       "      <td>1</td>\n",
       "      <td>1</td>\n",
       "      <td>3</td>\n",
       "      <td>0</td>\n",
       "    </tr>\n",
       "    <tr>\n",
       "      <th>1022</th>\n",
       "      <td>47</td>\n",
       "      <td>1</td>\n",
       "      <td>0</td>\n",
       "      <td>110</td>\n",
       "      <td>275</td>\n",
       "      <td>0</td>\n",
       "      <td>0</td>\n",
       "      <td>118</td>\n",
       "      <td>1</td>\n",
       "      <td>1.0</td>\n",
       "      <td>1</td>\n",
       "      <td>1</td>\n",
       "      <td>2</td>\n",
       "      <td>0</td>\n",
       "    </tr>\n",
       "    <tr>\n",
       "      <th>1023</th>\n",
       "      <td>50</td>\n",
       "      <td>0</td>\n",
       "      <td>0</td>\n",
       "      <td>110</td>\n",
       "      <td>254</td>\n",
       "      <td>0</td>\n",
       "      <td>0</td>\n",
       "      <td>159</td>\n",
       "      <td>0</td>\n",
       "      <td>0.0</td>\n",
       "      <td>2</td>\n",
       "      <td>0</td>\n",
       "      <td>2</td>\n",
       "      <td>1</td>\n",
       "    </tr>\n",
       "    <tr>\n",
       "      <th>1024</th>\n",
       "      <td>54</td>\n",
       "      <td>1</td>\n",
       "      <td>0</td>\n",
       "      <td>120</td>\n",
       "      <td>188</td>\n",
       "      <td>0</td>\n",
       "      <td>1</td>\n",
       "      <td>113</td>\n",
       "      <td>0</td>\n",
       "      <td>1.4</td>\n",
       "      <td>1</td>\n",
       "      <td>1</td>\n",
       "      <td>3</td>\n",
       "      <td>0</td>\n",
       "    </tr>\n",
       "  </tbody>\n",
       "</table>\n",
       "<p>1025 rows × 14 columns</p>\n",
       "</div>"
      ],
      "text/plain": [
       "      age  sex  cp  trestbps  chol  fbs  restecg  thalach  exang  oldpeak  \\\n",
       "0      52    1   0       125   212    0        1      168      0      1.0   \n",
       "1      53    1   0       140   203    1        0      155      1      3.1   \n",
       "2      70    1   0       145   174    0        1      125      1      2.6   \n",
       "3      61    1   0       148   203    0        1      161      0      0.0   \n",
       "4      62    0   0       138   294    1        1      106      0      1.9   \n",
       "...   ...  ...  ..       ...   ...  ...      ...      ...    ...      ...   \n",
       "1020   59    1   1       140   221    0        1      164      1      0.0   \n",
       "1021   60    1   0       125   258    0        0      141      1      2.8   \n",
       "1022   47    1   0       110   275    0        0      118      1      1.0   \n",
       "1023   50    0   0       110   254    0        0      159      0      0.0   \n",
       "1024   54    1   0       120   188    0        1      113      0      1.4   \n",
       "\n",
       "      slope  ca  thal  target  \n",
       "0         2   2     3       0  \n",
       "1         0   0     3       0  \n",
       "2         0   0     3       0  \n",
       "3         2   1     3       0  \n",
       "4         1   3     2       0  \n",
       "...     ...  ..   ...     ...  \n",
       "1020      2   0     2       1  \n",
       "1021      1   1     3       0  \n",
       "1022      1   1     2       0  \n",
       "1023      2   0     2       1  \n",
       "1024      1   1     3       0  \n",
       "\n",
       "[1025 rows x 14 columns]"
      ]
     },
     "execution_count": 73,
     "metadata": {},
     "output_type": "execute_result"
    }
   ],
   "source": [
    "# Reading the csv file using pandas and giving it more functions and ease of use\n",
    "\n",
    "data = pd.read_csv('heart.csv') \n",
    "data"
   ]
  },
  {
   "cell_type": "code",
   "execution_count": 74,
   "id": "5583faa6-050a-48b5-bc88-13a878aae7c6",
   "metadata": {},
   "outputs": [
    {
     "data": {
      "text/plain": [
       "0       0\n",
       "1       0\n",
       "2       0\n",
       "3       0\n",
       "4       0\n",
       "       ..\n",
       "1020    1\n",
       "1021    0\n",
       "1022    0\n",
       "1023    0\n",
       "1024    0\n",
       "Name: cp, Length: 1025, dtype: int64"
      ]
     },
     "execution_count": 74,
     "metadata": {},
     "output_type": "execute_result"
    }
   ],
   "source": [
    "data['cp']"
   ]
  },
  {
   "cell_type": "code",
   "execution_count": 75,
   "id": "d792734c",
   "metadata": {},
   "outputs": [],
   "source": [
    "# data.describe() \n"
   ]
  },
  {
   "cell_type": "code",
   "execution_count": 76,
   "id": "7d28f559",
   "metadata": {},
   "outputs": [
    {
     "data": {
      "text/plain": [
       "age         False\n",
       "sex         False\n",
       "cp          False\n",
       "trestbps    False\n",
       "chol        False\n",
       "fbs         False\n",
       "restecg     False\n",
       "thalach     False\n",
       "exang       False\n",
       "oldpeak     False\n",
       "slope       False\n",
       "ca          False\n",
       "thal        False\n",
       "target      False\n",
       "dtype: bool"
      ]
     },
     "execution_count": 76,
     "metadata": {},
     "output_type": "execute_result"
    }
   ],
   "source": [
    "# Checking if there is any empty or null data in the dataset, so that it doesen't affect the model's performance\n",
    "\n",
    "data.isnull().any() "
   ]
  },
  {
   "cell_type": "code",
   "execution_count": 77,
   "id": "d038de98",
   "metadata": {},
   "outputs": [],
   "source": [
    "# loading the data\n",
    "# X contains input data (i.e: bp, cholesterol, sex......)\n",
    "# Y contains output data  (i.e: yes or no, like if someone has heart disease or not)\n",
    "\n",
    "# By combining these equations [f(x1, x2, x3) = y] or [f(bp, ch, sex) = heart disease is there or not]\n",
    "# We can aquire a new equation or machine learning model that predicts the output\n",
    "\n",
    "\n",
    "\n",
    "# X = data.iloc[:,:12].values \n",
    "y = data[\"target\"].values\n",
    "\n",
    "#                 age\tsex   cp\ttrestbps\tchol\tfbs\t  restecg thalach exang\toldpeak\tslope\tca     thal\t  target\n",
    "X = data.iloc[:, [True, True, True,   True,     True,   True,  True,   True,  True,  False, False,  False, True,  False]].values \n"
   ]
  },
  {
   "cell_type": "code",
   "execution_count": 78,
   "id": "ebb6c075-9a52-4b5e-a5f0-8202e1b8a501",
   "metadata": {},
   "outputs": [
    {
     "data": {
      "text/plain": [
       "array([ 52,   1,   0, 125, 212,   0,   1, 168,   0,   3])"
      ]
     },
     "execution_count": 78,
     "metadata": {},
     "output_type": "execute_result"
    }
   ],
   "source": [
    "X[0]"
   ]
  },
  {
   "cell_type": "code",
   "execution_count": 79,
   "id": "90dfbc84",
   "metadata": {},
   "outputs": [
    {
     "name": "stdout",
     "output_type": "stream",
     "text": [
      "Input Values: \n",
      "[[ 52   1   0 ... 168   0   3]\n",
      " [ 53   1   0 ... 155   1   3]\n",
      " [ 70   1   0 ... 125   1   3]\n",
      " ...\n",
      " [ 47   1   0 ... 118   1   2]\n",
      " [ 50   0   0 ... 159   0   2]\n",
      " [ 54   1   0 ... 113   0   3]]\n",
      "\n",
      " ---------------------------------------- \n",
      "\n",
      "Output Values: \n",
      "[0 0 0 ... 0 1 0]\n"
     ]
    }
   ],
   "source": [
    "# Just printing the values stored in X and y\n",
    "\n",
    "print(\"Input Values: \")\n",
    "print(X)\n",
    "print(\"\\n\", \"-\"*40, \"\\n\")\n",
    "print(\"Output Values: \")\n",
    "print(y)"
   ]
  },
  {
   "cell_type": "code",
   "execution_count": 80,
   "id": "3dc7b874-e263-4c38-8290-002627244e9b",
   "metadata": {},
   "outputs": [],
   "source": [
    "# Spliting the data into train and test (70% train, 30% test)\n",
    "\n",
    "X_train,X_test,y_train, y_test = train_test_split(X,y,test_size = 0.1 , random_state = 0 ) "
   ]
  },
  {
   "cell_type": "code",
   "execution_count": null,
   "id": "7832e35f-2807-436e-ab64-b65550872cb3",
   "metadata": {},
   "outputs": [],
   "source": []
  },
  {
   "cell_type": "code",
   "execution_count": 81,
   "id": "67a8aebd",
   "metadata": {},
   "outputs": [],
   "source": [
    "# This is doing some shit which I didn't, but ig it is just shrinking the values ranging from -1 to 1\n",
    "# What ever the value is it just shrinks it\n",
    "\n",
    "from sklearn.preprocessing import StandardScaler \n",
    "sc = StandardScaler() \n",
    "X_train = sc.fit_transform(X_train) \n",
    "X_test = sc.transform([[59, 1, 1, 140, 221, 0, 1, 164, 1, 2]]) "
   ]
  },
  {
   "cell_type": "code",
   "execution_count": 82,
   "id": "b6b6ad55",
   "metadata": {},
   "outputs": [],
   "source": [
    "# Ignore this\n",
    "\n",
    "classifier = Sequential() \n",
    "classifier.add(Dense(activation = \"relu\", input_dim = 10, units = 8, kernel_initializer = \"uniform\")) \n",
    "classifier.add(Dense(activation = \"relu\", units = 14, kernel_initializer = \"uniform\")) \n",
    "classifier.add(Dense(activation = \"sigmoid\", units = 1, kernel_initializer = \"uniform\")) \n",
    "classifier.compile(optimizer = 'adam' , loss = 'binary_crossentropy', metrics = ['accuracy'] ) \n"
   ]
  },
  {
   "cell_type": "code",
   "execution_count": 83,
   "id": "551efce9",
   "metadata": {},
   "outputs": [
    {
     "name": "stdout",
     "output_type": "stream",
     "text": [
      "Epoch 1/100\n",
      "116/116 [==============================] - 1s 3ms/step - loss: 0.6852 - accuracy: 0.6790\n",
      "Epoch 2/100\n",
      "116/116 [==============================] - 0s 2ms/step - loss: 0.5370 - accuracy: 0.7852\n",
      "Epoch 3/100\n",
      "116/116 [==============================] - 0s 2ms/step - loss: 0.4298 - accuracy: 0.7950\n",
      "Epoch 4/100\n",
      "116/116 [==============================] - 0s 2ms/step - loss: 0.4105 - accuracy: 0.8015\n",
      "Epoch 5/100\n",
      "116/116 [==============================] - 0s 3ms/step - loss: 0.4014 - accuracy: 0.8037\n",
      "Epoch 6/100\n",
      "116/116 [==============================] - 0s 3ms/step - loss: 0.3959 - accuracy: 0.8069\n",
      "Epoch 7/100\n",
      "116/116 [==============================] - 0s 3ms/step - loss: 0.3898 - accuracy: 0.8059\n",
      "Epoch 8/100\n",
      "116/116 [==============================] - 0s 4ms/step - loss: 0.3838 - accuracy: 0.8102\n",
      "Epoch 9/100\n",
      "116/116 [==============================] - 0s 3ms/step - loss: 0.3798 - accuracy: 0.8134\n",
      "Epoch 10/100\n",
      "116/116 [==============================] - 0s 2ms/step - loss: 0.3768 - accuracy: 0.8124\n",
      "Epoch 11/100\n",
      "116/116 [==============================] - 0s 3ms/step - loss: 0.3744 - accuracy: 0.8145\n",
      "Epoch 12/100\n",
      "116/116 [==============================] - 0s 4ms/step - loss: 0.3706 - accuracy: 0.8167\n",
      "Epoch 13/100\n",
      "116/116 [==============================] - 0s 3ms/step - loss: 0.3684 - accuracy: 0.8221\n",
      "Epoch 14/100\n",
      "116/116 [==============================] - 0s 3ms/step - loss: 0.3672 - accuracy: 0.8145\n",
      "Epoch 15/100\n",
      "116/116 [==============================] - 0s 2ms/step - loss: 0.3655 - accuracy: 0.8145\n",
      "Epoch 16/100\n",
      "116/116 [==============================] - 0s 3ms/step - loss: 0.3638 - accuracy: 0.8156\n",
      "Epoch 17/100\n",
      "116/116 [==============================] - 0s 2ms/step - loss: 0.3616 - accuracy: 0.8124\n",
      "Epoch 18/100\n",
      "116/116 [==============================] - 0s 3ms/step - loss: 0.3606 - accuracy: 0.8189\n",
      "Epoch 19/100\n",
      "116/116 [==============================] - 0s 3ms/step - loss: 0.3572 - accuracy: 0.8221\n",
      "Epoch 20/100\n",
      "116/116 [==============================] - 0s 2ms/step - loss: 0.3560 - accuracy: 0.8178\n",
      "Epoch 21/100\n",
      "116/116 [==============================] - 0s 2ms/step - loss: 0.3548 - accuracy: 0.8221\n",
      "Epoch 22/100\n",
      "116/116 [==============================] - 0s 2ms/step - loss: 0.3541 - accuracy: 0.8210\n",
      "Epoch 23/100\n",
      "116/116 [==============================] - 1s 4ms/step - loss: 0.3523 - accuracy: 0.8265\n",
      "Epoch 24/100\n",
      "116/116 [==============================] - 0s 4ms/step - loss: 0.3496 - accuracy: 0.8254\n",
      "Epoch 25/100\n",
      "116/116 [==============================] - 0s 3ms/step - loss: 0.3485 - accuracy: 0.8254\n",
      "Epoch 26/100\n",
      "116/116 [==============================] - 0s 3ms/step - loss: 0.3471 - accuracy: 0.8254\n",
      "Epoch 27/100\n",
      "116/116 [==============================] - 0s 2ms/step - loss: 0.3458 - accuracy: 0.8297\n",
      "Epoch 28/100\n",
      "116/116 [==============================] - 0s 2ms/step - loss: 0.3437 - accuracy: 0.8254\n",
      "Epoch 29/100\n",
      "116/116 [==============================] - 0s 3ms/step - loss: 0.3416 - accuracy: 0.8297\n",
      "Epoch 30/100\n",
      "116/116 [==============================] - 0s 3ms/step - loss: 0.3404 - accuracy: 0.8395\n",
      "Epoch 31/100\n",
      "116/116 [==============================] - 0s 2ms/step - loss: 0.3369 - accuracy: 0.8362\n",
      "Epoch 32/100\n",
      "116/116 [==============================] - 0s 4ms/step - loss: 0.3353 - accuracy: 0.8373\n",
      "Epoch 33/100\n",
      "116/116 [==============================] - 0s 3ms/step - loss: 0.3338 - accuracy: 0.8373\n",
      "Epoch 34/100\n",
      "116/116 [==============================] - 0s 4ms/step - loss: 0.3304 - accuracy: 0.8373\n",
      "Epoch 35/100\n",
      "116/116 [==============================] - 0s 3ms/step - loss: 0.3276 - accuracy: 0.8492\n",
      "Epoch 36/100\n",
      "116/116 [==============================] - 0s 4ms/step - loss: 0.3248 - accuracy: 0.8449\n",
      "Epoch 37/100\n",
      "116/116 [==============================] - 0s 3ms/step - loss: 0.3237 - accuracy: 0.8525\n",
      "Epoch 38/100\n",
      "116/116 [==============================] - 0s 3ms/step - loss: 0.3217 - accuracy: 0.8547\n",
      "Epoch 39/100\n",
      "116/116 [==============================] - 0s 3ms/step - loss: 0.3201 - accuracy: 0.8460\n",
      "Epoch 40/100\n",
      "116/116 [==============================] - 0s 2ms/step - loss: 0.3183 - accuracy: 0.8557\n",
      "Epoch 41/100\n",
      "116/116 [==============================] - 0s 3ms/step - loss: 0.3169 - accuracy: 0.8557\n",
      "Epoch 42/100\n",
      "116/116 [==============================] - 0s 3ms/step - loss: 0.3174 - accuracy: 0.8568\n",
      "Epoch 43/100\n",
      "116/116 [==============================] - 0s 3ms/step - loss: 0.3152 - accuracy: 0.8590\n",
      "Epoch 44/100\n",
      "116/116 [==============================] - 0s 3ms/step - loss: 0.3127 - accuracy: 0.8568\n",
      "Epoch 45/100\n",
      "116/116 [==============================] - 0s 3ms/step - loss: 0.3115 - accuracy: 0.8547\n",
      "Epoch 46/100\n",
      "116/116 [==============================] - 0s 3ms/step - loss: 0.3110 - accuracy: 0.8568\n",
      "Epoch 47/100\n",
      "116/116 [==============================] - 0s 3ms/step - loss: 0.3083 - accuracy: 0.8590\n",
      "Epoch 48/100\n",
      "116/116 [==============================] - 0s 4ms/step - loss: 0.3072 - accuracy: 0.8677\n",
      "Epoch 49/100\n",
      "116/116 [==============================] - 0s 3ms/step - loss: 0.3046 - accuracy: 0.8623\n",
      "Epoch 50/100\n",
      "116/116 [==============================] - 0s 2ms/step - loss: 0.3044 - accuracy: 0.8666\n",
      "Epoch 51/100\n",
      "116/116 [==============================] - 0s 2ms/step - loss: 0.3013 - accuracy: 0.8709\n",
      "Epoch 52/100\n",
      "116/116 [==============================] - 0s 3ms/step - loss: 0.3001 - accuracy: 0.8742\n",
      "Epoch 53/100\n",
      "116/116 [==============================] - 0s 2ms/step - loss: 0.2973 - accuracy: 0.8698\n",
      "Epoch 54/100\n",
      "116/116 [==============================] - 0s 2ms/step - loss: 0.2963 - accuracy: 0.8742\n",
      "Epoch 55/100\n",
      "116/116 [==============================] - 0s 3ms/step - loss: 0.2936 - accuracy: 0.8764\n",
      "Epoch 56/100\n",
      "116/116 [==============================] - 0s 3ms/step - loss: 0.2925 - accuracy: 0.8742\n",
      "Epoch 57/100\n",
      "116/116 [==============================] - 0s 3ms/step - loss: 0.2906 - accuracy: 0.8785\n",
      "Epoch 58/100\n",
      "116/116 [==============================] - 0s 2ms/step - loss: 0.2883 - accuracy: 0.8753\n",
      "Epoch 59/100\n",
      "116/116 [==============================] - 0s 3ms/step - loss: 0.2869 - accuracy: 0.8742\n",
      "Epoch 60/100\n",
      "116/116 [==============================] - 0s 2ms/step - loss: 0.2842 - accuracy: 0.8764\n",
      "Epoch 61/100\n",
      "116/116 [==============================] - 0s 3ms/step - loss: 0.2827 - accuracy: 0.8774\n",
      "Epoch 62/100\n",
      "116/116 [==============================] - 0s 3ms/step - loss: 0.2798 - accuracy: 0.8861\n",
      "Epoch 63/100\n",
      "116/116 [==============================] - 0s 3ms/step - loss: 0.2782 - accuracy: 0.8785\n",
      "Epoch 64/100\n",
      "116/116 [==============================] - 0s 4ms/step - loss: 0.2756 - accuracy: 0.8829\n",
      "Epoch 65/100\n",
      "116/116 [==============================] - 1s 5ms/step - loss: 0.2738 - accuracy: 0.8894\n",
      "Epoch 66/100\n",
      "116/116 [==============================] - 0s 3ms/step - loss: 0.2702 - accuracy: 0.8883\n",
      "Epoch 67/100\n",
      "116/116 [==============================] - 0s 2ms/step - loss: 0.2700 - accuracy: 0.8883\n",
      "Epoch 68/100\n",
      "116/116 [==============================] - 0s 3ms/step - loss: 0.2675 - accuracy: 0.8937\n",
      "Epoch 69/100\n",
      "116/116 [==============================] - 0s 4ms/step - loss: 0.2649 - accuracy: 0.8894\n",
      "Epoch 70/100\n",
      "116/116 [==============================] - 0s 3ms/step - loss: 0.2637 - accuracy: 0.8970\n",
      "Epoch 71/100\n",
      "116/116 [==============================] - 0s 3ms/step - loss: 0.2618 - accuracy: 0.8948\n",
      "Epoch 72/100\n",
      "116/116 [==============================] - 0s 4ms/step - loss: 0.2610 - accuracy: 0.8905\n",
      "Epoch 73/100\n",
      "116/116 [==============================] - 0s 4ms/step - loss: 0.2586 - accuracy: 0.8937\n",
      "Epoch 74/100\n",
      "116/116 [==============================] - 0s 4ms/step - loss: 0.2557 - accuracy: 0.9035\n",
      "Epoch 75/100\n",
      "116/116 [==============================] - 0s 4ms/step - loss: 0.2513 - accuracy: 0.9078\n",
      "Epoch 76/100\n",
      "116/116 [==============================] - 0s 3ms/step - loss: 0.2495 - accuracy: 0.9089\n",
      "Epoch 77/100\n",
      "116/116 [==============================] - 0s 3ms/step - loss: 0.2494 - accuracy: 0.9067\n",
      "Epoch 78/100\n",
      "116/116 [==============================] - 0s 4ms/step - loss: 0.2464 - accuracy: 0.9100\n",
      "Epoch 79/100\n",
      "116/116 [==============================] - 0s 4ms/step - loss: 0.2432 - accuracy: 0.9143\n",
      "Epoch 80/100\n",
      "116/116 [==============================] - 0s 3ms/step - loss: 0.2400 - accuracy: 0.9165\n",
      "Epoch 81/100\n",
      "116/116 [==============================] - 0s 3ms/step - loss: 0.2413 - accuracy: 0.9100\n",
      "Epoch 82/100\n",
      "116/116 [==============================] - 0s 3ms/step - loss: 0.2406 - accuracy: 0.9111\n",
      "Epoch 83/100\n",
      "116/116 [==============================] - 0s 3ms/step - loss: 0.2374 - accuracy: 0.9100\n",
      "Epoch 84/100\n",
      "116/116 [==============================] - 0s 4ms/step - loss: 0.2363 - accuracy: 0.9121\n",
      "Epoch 85/100\n",
      "116/116 [==============================] - 0s 3ms/step - loss: 0.2348 - accuracy: 0.9132\n",
      "Epoch 86/100\n",
      "116/116 [==============================] - 0s 4ms/step - loss: 0.2331 - accuracy: 0.9165\n",
      "Epoch 87/100\n",
      "116/116 [==============================] - 0s 3ms/step - loss: 0.2325 - accuracy: 0.9143\n",
      "Epoch 88/100\n",
      "116/116 [==============================] - 0s 3ms/step - loss: 0.2290 - accuracy: 0.9143\n",
      "Epoch 89/100\n",
      "116/116 [==============================] - 0s 3ms/step - loss: 0.2273 - accuracy: 0.9176\n",
      "Epoch 90/100\n",
      "116/116 [==============================] - 0s 3ms/step - loss: 0.2294 - accuracy: 0.9121\n",
      "Epoch 91/100\n",
      "116/116 [==============================] - 0s 3ms/step - loss: 0.2248 - accuracy: 0.9154\n",
      "Epoch 92/100\n",
      "116/116 [==============================] - 0s 2ms/step - loss: 0.2242 - accuracy: 0.9208\n",
      "Epoch 93/100\n",
      "116/116 [==============================] - 0s 3ms/step - loss: 0.2228 - accuracy: 0.9197\n",
      "Epoch 94/100\n",
      "116/116 [==============================] - 0s 3ms/step - loss: 0.2201 - accuracy: 0.9208\n",
      "Epoch 95/100\n",
      "116/116 [==============================] - 0s 3ms/step - loss: 0.2182 - accuracy: 0.9252\n",
      "Epoch 96/100\n",
      "116/116 [==============================] - 0s 3ms/step - loss: 0.2172 - accuracy: 0.9241\n",
      "Epoch 97/100\n",
      "116/116 [==============================] - 0s 3ms/step - loss: 0.2149 - accuracy: 0.9241\n",
      "Epoch 98/100\n",
      "116/116 [==============================] - 0s 3ms/step - loss: 0.2159 - accuracy: 0.9262\n",
      "Epoch 99/100\n",
      "116/116 [==============================] - 0s 2ms/step - loss: 0.2126 - accuracy: 0.9273\n",
      "Epoch 100/100\n",
      "116/116 [==============================] - 0s 3ms/step - loss: 0.2110 - accuracy: 0.9262\n"
     ]
    },
    {
     "data": {
      "text/plain": [
       "<keras.callbacks.History at 0x7f5547d3fa50>"
      ]
     },
     "execution_count": 83,
     "metadata": {},
     "output_type": "execute_result"
    }
   ],
   "source": [
    "# Training the model\n",
    "\n",
    "classifier.fit(X_train , y_train , batch_size = 8 ,epochs = 100 ) \n"
   ]
  },
  {
   "cell_type": "code",
   "execution_count": 84,
   "id": "8dd1a120-8fa4-4550-9425-62716d34e19d",
   "metadata": {},
   "outputs": [],
   "source": [
    "# save the model\n",
    "\n",
    "classifier.save(\"models/model_X.h5\")\n"
   ]
  },
  {
   "cell_type": "code",
   "execution_count": 44,
   "id": "d95a5517-875c-47b4-a105-2d2a7dc1ce93",
   "metadata": {},
   "outputs": [],
   "source": [
    "from keras.models import load_model\n",
    "\n",
    "classifier = load_model('models/model_Y.h5')\n"
   ]
  },
  {
   "cell_type": "code",
   "execution_count": 96,
   "id": "0d9486f0",
   "metadata": {},
   "outputs": [
    {
     "name": "stdout",
     "output_type": "stream",
     "text": [
      "10/10 [==============================] - 0s 4ms/step\n",
      "[0.40746713]\n"
     ]
    }
   ],
   "source": [
    "y_pred = classifier.predict(X_test) \n",
    "y_pred = (y_pred > 0.5) "
   ]
  },
  {
   "cell_type": "code",
   "execution_count": null,
   "id": "715d24bf-13fe-483e-bac3-e1b48b58c137",
   "metadata": {},
   "outputs": [],
   "source": []
  },
  {
   "cell_type": "code",
   "execution_count": 13,
   "id": "c4bb7429",
   "metadata": {},
   "outputs": [
    {
     "data": {
      "text/plain": [
       "array([[133,  12],\n",
       "       [ 20, 143]])"
      ]
     },
     "execution_count": 13,
     "metadata": {},
     "output_type": "execute_result"
    }
   ],
   "source": [
    "cm = confusion_matrix(y_test,y_pred) \n",
    "cm "
   ]
  },
  {
   "cell_type": "code",
   "execution_count": 14,
   "id": "58137f7a",
   "metadata": {},
   "outputs": [
    {
     "name": "stdout",
     "output_type": "stream",
     "text": [
      "89.6103896103896\n"
     ]
    }
   ],
   "source": [
    "accuracy = (cm[0][0]+cm[1][1])/(cm[0][1] + cm[1][0] +cm[0][0] +cm[1][1]) \n",
    "print(accuracy*100) \n"
   ]
  },
  {
   "cell_type": "code",
   "execution_count": 15,
   "id": "d0feb6fd",
   "metadata": {},
   "outputs": [
    {
     "name": "stdout",
     "output_type": "stream",
     "text": [
      "Heart disease! (you will die soon)\n",
      "No Heart disease! (you will die alone)\n",
      "No Heart disease! (you will die alone)\n",
      "Heart disease! (you will die soon)\n",
      "No Heart disease! (you will die alone)\n",
      "No Heart disease! (you will die alone)\n",
      "No Heart disease! (you will die alone)\n",
      "No Heart disease! (you will die alone)\n",
      "No Heart disease! (you will die alone)\n",
      "No Heart disease! (you will die alone)\n",
      "No Heart disease! (you will die alone)\n",
      "No Heart disease! (you will die alone)\n",
      "Heart disease! (you will die soon)\n",
      "No Heart disease! (you will die alone)\n",
      "Heart disease! (you will die soon)\n",
      "Heart disease! (you will die soon)\n",
      "Heart disease! (you will die soon)\n",
      "No Heart disease! (you will die alone)\n",
      "Heart disease! (you will die soon)\n",
      "No Heart disease! (you will die alone)\n",
      "Heart disease! (you will die soon)\n"
     ]
    }
   ],
   "source": [
    "#tests only some 20 sample\n",
    "\n",
    "count = 0\n",
    "\n",
    "for i in y_pred:\n",
    "    if i == True:\n",
    "        print(\"Heart disease! (you will die soon)\")\n",
    "    else:\n",
    "        print(\"No Heart disease! (you will die alone)\")\n",
    "        \n",
    "    count+=1\n",
    "    \n",
    "    if count>20:\n",
    "        break;"
   ]
  },
  {
   "cell_type": "code",
   "execution_count": 30,
   "id": "3315d076",
   "metadata": {},
   "outputs": [
    {
     "data": {
      "text/plain": [
       "1025"
      ]
     },
     "execution_count": 30,
     "metadata": {},
     "output_type": "execute_result"
    }
   ],
   "source": [
    "len(X_train)+len(X_test)"
   ]
  },
  {
   "cell_type": "code",
   "execution_count": 17,
   "id": "2357fb32",
   "metadata": {},
   "outputs": [],
   "source": [
    "#print(data.to_string())\n"
   ]
  },
  {
   "cell_type": "code",
   "execution_count": null,
   "id": "5d5340eb-d21c-4f9e-a181-3130b1b10bff",
   "metadata": {},
   "outputs": [],
   "source": []
  },
  {
   "cell_type": "code",
   "execution_count": null,
   "id": "dd1f8b89-fe3c-4897-9cf3-88464d0fbf31",
   "metadata": {},
   "outputs": [],
   "source": []
  },
  {
   "cell_type": "code",
   "execution_count": 24,
   "id": "d3f292e3-7891-462a-91e1-93d7292fcdc4",
   "metadata": {},
   "outputs": [
    {
     "data": {
      "text/plain": [
       "array([ 0.27717522,  0.65226323,  1.02564169,  1.03903499, -1.51660781,\n",
       "       -0.42111744,  0.92419637,  1.07403975, -0.7004602 , -0.51108759])"
      ]
     },
     "execution_count": 24,
     "metadata": {},
     "output_type": "execute_result"
    }
   ],
   "source": [
    "X_train[0]"
   ]
  },
  {
   "cell_type": "code",
   "execution_count": 92,
   "id": "d2d0bf00",
   "metadata": {},
   "outputs": [
    {
     "name": "stdout",
     "output_type": "stream",
     "text": [
      "1/1 [==============================] - 0s 38ms/step\n",
      "[[0.2614653]]\n"
     ]
    }
   ],
   "source": [
    "# load model\n",
    "\n",
    "from keras.models import load_model\n",
    "from sklearn.preprocessing import StandardScaler\n",
    "import tensorflow as tf \n",
    "import pandas as pd \n",
    "import numpy as np \n",
    "import matplotlib.pyplot as plt \n",
    "import keras \n",
    "from keras.models import Sequential \n",
    "from keras.layers import Dense \n",
    "from sklearn.metrics import confusion_matrix \n",
    "from sklearn.model_selection import train_test_split\n",
    "\n",
    "\n",
    "\n",
    "\n",
    "data = pd.read_csv('heart.csv') \n",
    "X = data.iloc[:, [True, True, True,   True,     True,   True,  True,   True,  True,  False, False,  False, True,  False]].values \n",
    "\n",
    "dat = [[77, 0, 0, 110, 275, 0, 0, 118, 1, 2]] \n",
    "\n",
    "sc = StandardScaler() \n",
    "\n",
    "\n",
    "X_train = sc.fit_transform(X) \n",
    "dat = sc.transform(dat)\n",
    "\n",
    "\n",
    "model = load_model('models/model_X.h5')\n",
    "\n",
    "pred = model.predict(dat)\n",
    "print(pred)\n",
    "pred = (pred > 0.5)\n",
    "\n"
   ]
  },
  {
   "cell_type": "code",
   "execution_count": 71,
   "id": "3c2d6ce2-3241-4c13-afef-a3dca9e5a3c4",
   "metadata": {},
   "outputs": [
    {
     "name": "stdout",
     "output_type": "stream",
     "text": [
      "No HD\n"
     ]
    }
   ],
   "source": [
    "if pred == False:\n",
    "    print(\"No HD\")"
   ]
  },
  {
   "cell_type": "code",
   "execution_count": null,
   "id": "807e086b-6424-4e20-97e7-620b94e621a3",
   "metadata": {},
   "outputs": [],
   "source": []
  },
  {
   "cell_type": "code",
   "execution_count": 79,
   "id": "bd699240-fa20-4a42-ad7f-90a23f75b170",
   "metadata": {},
   "outputs": [],
   "source": []
  },
  {
   "cell_type": "code",
   "execution_count": null,
   "id": "63e9f655-ad28-4d10-bbd3-0bf69d21603c",
   "metadata": {},
   "outputs": [],
   "source": []
  }
 ],
 "metadata": {
  "kernelspec": {
   "display_name": "Python 3 (ipykernel)",
   "language": "python",
   "name": "python3"
  },
  "language_info": {
   "codemirror_mode": {
    "name": "ipython",
    "version": 3
   },
   "file_extension": ".py",
   "mimetype": "text/x-python",
   "name": "python",
   "nbconvert_exporter": "python",
   "pygments_lexer": "ipython3",
   "version": "3.11.4"
  }
 },
 "nbformat": 4,
 "nbformat_minor": 5
}
